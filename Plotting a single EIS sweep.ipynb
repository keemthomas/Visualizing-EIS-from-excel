{
 "cells": [
  {
   "cell_type": "markdown",
   "id": "4f3f410c",
   "metadata": {},
   "source": [
    "Hakeem Thomas <br>\n",
    "Visualizing an EIS sweep from one row of data"
   ]
  },
  {
   "cell_type": "markdown",
   "id": "bd44c1c9",
   "metadata": {},
   "source": [
    "---------------"
   ]
  },
  {
   "cell_type": "markdown",
   "id": "36ce0cb1",
   "metadata": {},
   "source": [
    "## __Importing Libraries__"
   ]
  },
  {
   "cell_type": "code",
   "execution_count": 30,
   "id": "15f1eb25",
   "metadata": {},
   "outputs": [],
   "source": [
    "import pandas as pd              ##Open source library that focuses on data manipulation.\n",
    "import plotly.express as px      ##Used for visualizing data."
   ]
  },
  {
   "cell_type": "markdown",
   "id": "3a9d0f70",
   "metadata": {},
   "source": [
    "### Creating the dataframe to manipulate"
   ]
  },
  {
   "cell_type": "code",
   "execution_count": 3,
   "id": "c15508b1",
   "metadata": {},
   "outputs": [],
   "source": [
    "##Read the dataframe from excel\n",
    "df = pd.read_excel('EIS_subset_data.xlsx')"
   ]
  },
  {
   "cell_type": "code",
   "execution_count": 4,
   "id": "e022fc2c",
   "metadata": {},
   "outputs": [
    {
     "data": {
      "text/html": [
       "<div>\n",
       "<style scoped>\n",
       "    .dataframe tbody tr th:only-of-type {\n",
       "        vertical-align: middle;\n",
       "    }\n",
       "\n",
       "    .dataframe tbody tr th {\n",
       "        vertical-align: top;\n",
       "    }\n",
       "\n",
       "    .dataframe thead th {\n",
       "        text-align: right;\n",
       "    }\n",
       "</style>\n",
       "<table border=\"1\" class=\"dataframe\">\n",
       "  <thead>\n",
       "    <tr style=\"text-align: right;\">\n",
       "      <th></th>\n",
       "      <th>Zre(ω1)</th>\n",
       "      <th>Zre(ω2)</th>\n",
       "      <th>Zre(ω3)</th>\n",
       "      <th>Zre(ω4)</th>\n",
       "      <th>Zre(ω5)</th>\n",
       "      <th>Zre(ω6)</th>\n",
       "      <th>Zre(ω7)</th>\n",
       "      <th>Zre(ω8)</th>\n",
       "      <th>Zre(ω9)</th>\n",
       "      <th>Zre(ω10)</th>\n",
       "      <th>...</th>\n",
       "      <th>Zim(ω54)</th>\n",
       "      <th>Zim(ω55)</th>\n",
       "      <th>Zim(ω56)</th>\n",
       "      <th>Zim(ω57)</th>\n",
       "      <th>Zim(ω58)</th>\n",
       "      <th>Zim(ω59)</th>\n",
       "      <th>Zim(ω60)</th>\n",
       "      <th>Cycle Number</th>\n",
       "      <th>Capacity</th>\n",
       "      <th>Cell ID</th>\n",
       "    </tr>\n",
       "  </thead>\n",
       "  <tbody>\n",
       "    <tr>\n",
       "      <th>0</th>\n",
       "      <td>0.3847</td>\n",
       "      <td>0.39156</td>\n",
       "      <td>0.39684</td>\n",
       "      <td>0.40341</td>\n",
       "      <td>0.40963</td>\n",
       "      <td>0.41925</td>\n",
       "      <td>0.42764</td>\n",
       "      <td>0.4353</td>\n",
       "      <td>0.44525</td>\n",
       "      <td>0.45744</td>\n",
       "      <td>...</td>\n",
       "      <td>0.13411</td>\n",
       "      <td>0.15473</td>\n",
       "      <td>0.18024</td>\n",
       "      <td>0.21535</td>\n",
       "      <td>0.25411</td>\n",
       "      <td>0.29026</td>\n",
       "      <td>0.32795</td>\n",
       "      <td>0</td>\n",
       "      <td>37.20271</td>\n",
       "      <td>25C01</td>\n",
       "    </tr>\n",
       "  </tbody>\n",
       "</table>\n",
       "<p>1 rows × 123 columns</p>\n",
       "</div>"
      ],
      "text/plain": [
       "   Zre(ω1)  Zre(ω2)  Zre(ω3)  Zre(ω4)  Zre(ω5)  Zre(ω6)  Zre(ω7)  Zre(ω8)  \\\n",
       "0   0.3847  0.39156  0.39684  0.40341  0.40963  0.41925  0.42764   0.4353   \n",
       "\n",
       "   Zre(ω9)  Zre(ω10)  ...  Zim(ω54)  Zim(ω55)  Zim(ω56)  Zim(ω57)  Zim(ω58)  \\\n",
       "0  0.44525   0.45744  ...   0.13411   0.15473   0.18024   0.21535   0.25411   \n",
       "\n",
       "   Zim(ω59)  Zim(ω60)  Cycle Number  Capacity  Cell ID  \n",
       "0   0.29026   0.32795             0  37.20271    25C01  \n",
       "\n",
       "[1 rows x 123 columns]"
      ]
     },
     "execution_count": 4,
     "metadata": {},
     "output_type": "execute_result"
    }
   ],
   "source": [
    "##Showing the dataframe\n",
    "df"
   ]
  },
  {
   "cell_type": "markdown",
   "id": "5f743478",
   "metadata": {},
   "source": [
    "Shows a dataframe with 123 columns, 120 pertaining to EIS data"
   ]
  },
  {
   "cell_type": "code",
   "execution_count": 12,
   "id": "504a1a99",
   "metadata": {},
   "outputs": [],
   "source": [
    "##Seperate the EIS data only into a new dataframe\n",
    "##Can use the drop function to remove the last three rows.\n",
    "##Can be advantageous if the last three columns are going to be the same categories no matter what degree of sweep you use.\n",
    "\n",
    "df1 = df.drop(['Capacity', 'Cell ID', 'Cycle Number'], axis = 1)  ##Only EIS data.\n",
    "\n",
    "## 'axis = 1' signifies that the '.drop' function is looking at columns. 'axis = 0' would be for executing on rows.\n"
   ]
  },
  {
   "cell_type": "code",
   "execution_count": 31,
   "id": "de72d147",
   "metadata": {},
   "outputs": [
    {
     "data": {
      "text/html": [
       "<div>\n",
       "<style scoped>\n",
       "    .dataframe tbody tr th:only-of-type {\n",
       "        vertical-align: middle;\n",
       "    }\n",
       "\n",
       "    .dataframe tbody tr th {\n",
       "        vertical-align: top;\n",
       "    }\n",
       "\n",
       "    .dataframe thead th {\n",
       "        text-align: right;\n",
       "    }\n",
       "</style>\n",
       "<table border=\"1\" class=\"dataframe\">\n",
       "  <thead>\n",
       "    <tr style=\"text-align: right;\">\n",
       "      <th></th>\n",
       "      <th>Zre(ω1)</th>\n",
       "      <th>Zre(ω2)</th>\n",
       "      <th>Zre(ω3)</th>\n",
       "      <th>Zre(ω4)</th>\n",
       "      <th>Zre(ω5)</th>\n",
       "      <th>Zre(ω6)</th>\n",
       "      <th>Zre(ω7)</th>\n",
       "      <th>Zre(ω8)</th>\n",
       "      <th>Zre(ω9)</th>\n",
       "      <th>Zre(ω10)</th>\n",
       "      <th>...</th>\n",
       "      <th>Zim(ω51)</th>\n",
       "      <th>Zim(ω52)</th>\n",
       "      <th>Zim(ω53)</th>\n",
       "      <th>Zim(ω54)</th>\n",
       "      <th>Zim(ω55)</th>\n",
       "      <th>Zim(ω56)</th>\n",
       "      <th>Zim(ω57)</th>\n",
       "      <th>Zim(ω58)</th>\n",
       "      <th>Zim(ω59)</th>\n",
       "      <th>Zim(ω60)</th>\n",
       "    </tr>\n",
       "  </thead>\n",
       "  <tbody>\n",
       "    <tr>\n",
       "      <th>0</th>\n",
       "      <td>0.3847</td>\n",
       "      <td>0.39156</td>\n",
       "      <td>0.39684</td>\n",
       "      <td>0.40341</td>\n",
       "      <td>0.40963</td>\n",
       "      <td>0.41925</td>\n",
       "      <td>0.42764</td>\n",
       "      <td>0.4353</td>\n",
       "      <td>0.44525</td>\n",
       "      <td>0.45744</td>\n",
       "      <td>...</td>\n",
       "      <td>0.08888</td>\n",
       "      <td>0.1023</td>\n",
       "      <td>0.11767</td>\n",
       "      <td>0.13411</td>\n",
       "      <td>0.15473</td>\n",
       "      <td>0.18024</td>\n",
       "      <td>0.21535</td>\n",
       "      <td>0.25411</td>\n",
       "      <td>0.29026</td>\n",
       "      <td>0.32795</td>\n",
       "    </tr>\n",
       "  </tbody>\n",
       "</table>\n",
       "<p>1 rows × 120 columns</p>\n",
       "</div>"
      ],
      "text/plain": [
       "   Zre(ω1)  Zre(ω2)  Zre(ω3)  Zre(ω4)  Zre(ω5)  Zre(ω6)  Zre(ω7)  Zre(ω8)  \\\n",
       "0   0.3847  0.39156  0.39684  0.40341  0.40963  0.41925  0.42764   0.4353   \n",
       "\n",
       "   Zre(ω9)  Zre(ω10)  ...  Zim(ω51)  Zim(ω52)  Zim(ω53)  Zim(ω54)  Zim(ω55)  \\\n",
       "0  0.44525   0.45744  ...   0.08888    0.1023   0.11767   0.13411   0.15473   \n",
       "\n",
       "   Zim(ω56)  Zim(ω57)  Zim(ω58)  Zim(ω59)  Zim(ω60)  \n",
       "0   0.18024   0.21535   0.25411   0.29026   0.32795  \n",
       "\n",
       "[1 rows x 120 columns]"
      ]
     },
     "execution_count": 31,
     "metadata": {},
     "output_type": "execute_result"
    }
   ],
   "source": [
    "#Show new dataframe\n",
    "df1"
   ]
  },
  {
   "cell_type": "markdown",
   "id": "6c4ae5ec",
   "metadata": {},
   "source": [
    "---------"
   ]
  },
  {
   "cell_type": "markdown",
   "id": "cdc7d012",
   "metadata": {},
   "source": [
    "### Pairing each real (Zre) and Imaginary (Zim) frequency (ω) together and plot."
   ]
  },
  {
   "cell_type": "code",
   "execution_count": 23,
   "id": "e5c73391",
   "metadata": {},
   "outputs": [],
   "source": [
    "a = df1.iloc[:, : 60].values  ##First 60 columns.\n",
    "b = df1.iloc[:,-60:].values   ##Last 60 columns."
   ]
  },
  {
   "cell_type": "code",
   "execution_count": 24,
   "id": "12755c94",
   "metadata": {},
   "outputs": [
    {
     "data": {
      "text/plain": [
       "array([[0.3847 , 0.39156, 0.39684, 0.40341, 0.40963, 0.41925, 0.42764,\n",
       "        0.4353 , 0.44525, 0.45744, 0.4667 , 0.4804 , 0.49228, 0.50688,\n",
       "        0.52266, 0.53725, 0.55511, 0.57423, 0.59175, 0.61094, 0.6316 ,\n",
       "        0.65332, 0.6764 , 0.69883, 0.72724, 0.75353, 0.7826 , 0.81236,\n",
       "        0.84168, 0.87406, 0.90143, 0.92776, 0.94976, 0.9694 , 0.9839 ,\n",
       "        0.99781, 1.00815, 1.01627, 1.02429, 1.02973, 1.03536, 1.04075,\n",
       "        1.04617, 1.05071, 1.05612, 1.06154, 1.0674 , 1.07274, 1.07784,\n",
       "        1.08463, 1.0928 , 1.1027 , 1.1119 , 1.12293, 1.1379 , 1.15879,\n",
       "        1.17998, 1.19951, 1.22204, 1.25668]])"
      ]
     },
     "execution_count": 24,
     "metadata": {},
     "output_type": "execute_result"
    }
   ],
   "source": [
    "a"
   ]
  },
  {
   "cell_type": "code",
   "execution_count": 25,
   "id": "cbac2dc5",
   "metadata": {},
   "outputs": [
    {
     "data": {
      "text/plain": [
       "array([[-3.5130e-02, -1.7000e-02,  9.0000e-05,  1.4050e-02,  2.6120e-02,\n",
       "         3.5030e-02,  4.4770e-02,  5.0550e-02,  5.9740e-02,  6.6080e-02,\n",
       "         7.3370e-02,  8.1160e-02,  8.9550e-02,  9.4770e-02,  1.0115e-01,\n",
       "         1.0537e-01,  1.1623e-01,  1.2077e-01,  1.2648e-01,  1.3371e-01,\n",
       "         1.3902e-01,  1.4582e-01,  1.5104e-01,  1.5489e-01,  1.6106e-01,\n",
       "         1.6641e-01,  1.6872e-01,  1.7167e-01,  1.6948e-01,  1.6454e-01,\n",
       "         1.5485e-01,  1.4326e-01,  1.2989e-01,  1.1741e-01,  1.0340e-01,\n",
       "         9.2360e-02,  8.2050e-02,  7.2660e-02,  6.6650e-02,  6.0920e-02,\n",
       "         5.6500e-02,  5.4040e-02,  5.3710e-02,  5.3440e-02,  5.4500e-02,\n",
       "         5.5720e-02,  5.9810e-02,  6.5720e-02,  7.1990e-02,  7.9030e-02,\n",
       "         8.8880e-02,  1.0230e-01,  1.1767e-01,  1.3411e-01,  1.5473e-01,\n",
       "         1.8024e-01,  2.1535e-01,  2.5411e-01,  2.9026e-01,  3.2795e-01]])"
      ]
     },
     "execution_count": 25,
     "metadata": {},
     "output_type": "execute_result"
    }
   ],
   "source": [
    "b"
   ]
  },
  {
   "cell_type": "code",
   "execution_count": 26,
   "id": "52e12e92",
   "metadata": {},
   "outputs": [],
   "source": [
    "##Create a NEW dataframe and store the arrays into two columns\n",
    "df_EIS = pd.DataFrame()\n",
    "\n",
    "##Good practice to use new dataframes incase you want to use any specific one for future use. \n",
    "\n",
    "##Turn the nested array into a single array to be able to put into a column to be paired\n",
    "\n",
    "Re_Z = a.flatten()             ##Makes the nested arrays into a single array to be put into a data frame.\n",
    "Im_Z = b.flatten()\n",
    "\n",
    "df_EIS['X Values'] = Re_Z\n",
    "df_EIS['Y Values'] = Im_Z"
   ]
  },
  {
   "cell_type": "code",
   "execution_count": 27,
   "id": "a56d7c1a",
   "metadata": {},
   "outputs": [
    {
     "data": {
      "text/html": [
       "<div>\n",
       "<style scoped>\n",
       "    .dataframe tbody tr th:only-of-type {\n",
       "        vertical-align: middle;\n",
       "    }\n",
       "\n",
       "    .dataframe tbody tr th {\n",
       "        vertical-align: top;\n",
       "    }\n",
       "\n",
       "    .dataframe thead th {\n",
       "        text-align: right;\n",
       "    }\n",
       "</style>\n",
       "<table border=\"1\" class=\"dataframe\">\n",
       "  <thead>\n",
       "    <tr style=\"text-align: right;\">\n",
       "      <th></th>\n",
       "      <th>X Values</th>\n",
       "      <th>Y Values</th>\n",
       "    </tr>\n",
       "  </thead>\n",
       "  <tbody>\n",
       "    <tr>\n",
       "      <th>0</th>\n",
       "      <td>0.38470</td>\n",
       "      <td>-0.03513</td>\n",
       "    </tr>\n",
       "    <tr>\n",
       "      <th>1</th>\n",
       "      <td>0.39156</td>\n",
       "      <td>-0.01700</td>\n",
       "    </tr>\n",
       "    <tr>\n",
       "      <th>2</th>\n",
       "      <td>0.39684</td>\n",
       "      <td>0.00009</td>\n",
       "    </tr>\n",
       "    <tr>\n",
       "      <th>3</th>\n",
       "      <td>0.40341</td>\n",
       "      <td>0.01405</td>\n",
       "    </tr>\n",
       "    <tr>\n",
       "      <th>4</th>\n",
       "      <td>0.40963</td>\n",
       "      <td>0.02612</td>\n",
       "    </tr>\n",
       "    <tr>\n",
       "      <th>5</th>\n",
       "      <td>0.41925</td>\n",
       "      <td>0.03503</td>\n",
       "    </tr>\n",
       "    <tr>\n",
       "      <th>6</th>\n",
       "      <td>0.42764</td>\n",
       "      <td>0.04477</td>\n",
       "    </tr>\n",
       "    <tr>\n",
       "      <th>7</th>\n",
       "      <td>0.43530</td>\n",
       "      <td>0.05055</td>\n",
       "    </tr>\n",
       "    <tr>\n",
       "      <th>8</th>\n",
       "      <td>0.44525</td>\n",
       "      <td>0.05974</td>\n",
       "    </tr>\n",
       "    <tr>\n",
       "      <th>9</th>\n",
       "      <td>0.45744</td>\n",
       "      <td>0.06608</td>\n",
       "    </tr>\n",
       "    <tr>\n",
       "      <th>10</th>\n",
       "      <td>0.46670</td>\n",
       "      <td>0.07337</td>\n",
       "    </tr>\n",
       "    <tr>\n",
       "      <th>11</th>\n",
       "      <td>0.48040</td>\n",
       "      <td>0.08116</td>\n",
       "    </tr>\n",
       "    <tr>\n",
       "      <th>12</th>\n",
       "      <td>0.49228</td>\n",
       "      <td>0.08955</td>\n",
       "    </tr>\n",
       "    <tr>\n",
       "      <th>13</th>\n",
       "      <td>0.50688</td>\n",
       "      <td>0.09477</td>\n",
       "    </tr>\n",
       "    <tr>\n",
       "      <th>14</th>\n",
       "      <td>0.52266</td>\n",
       "      <td>0.10115</td>\n",
       "    </tr>\n",
       "    <tr>\n",
       "      <th>15</th>\n",
       "      <td>0.53725</td>\n",
       "      <td>0.10537</td>\n",
       "    </tr>\n",
       "    <tr>\n",
       "      <th>16</th>\n",
       "      <td>0.55511</td>\n",
       "      <td>0.11623</td>\n",
       "    </tr>\n",
       "    <tr>\n",
       "      <th>17</th>\n",
       "      <td>0.57423</td>\n",
       "      <td>0.12077</td>\n",
       "    </tr>\n",
       "    <tr>\n",
       "      <th>18</th>\n",
       "      <td>0.59175</td>\n",
       "      <td>0.12648</td>\n",
       "    </tr>\n",
       "    <tr>\n",
       "      <th>19</th>\n",
       "      <td>0.61094</td>\n",
       "      <td>0.13371</td>\n",
       "    </tr>\n",
       "    <tr>\n",
       "      <th>20</th>\n",
       "      <td>0.63160</td>\n",
       "      <td>0.13902</td>\n",
       "    </tr>\n",
       "    <tr>\n",
       "      <th>21</th>\n",
       "      <td>0.65332</td>\n",
       "      <td>0.14582</td>\n",
       "    </tr>\n",
       "    <tr>\n",
       "      <th>22</th>\n",
       "      <td>0.67640</td>\n",
       "      <td>0.15104</td>\n",
       "    </tr>\n",
       "    <tr>\n",
       "      <th>23</th>\n",
       "      <td>0.69883</td>\n",
       "      <td>0.15489</td>\n",
       "    </tr>\n",
       "    <tr>\n",
       "      <th>24</th>\n",
       "      <td>0.72724</td>\n",
       "      <td>0.16106</td>\n",
       "    </tr>\n",
       "    <tr>\n",
       "      <th>25</th>\n",
       "      <td>0.75353</td>\n",
       "      <td>0.16641</td>\n",
       "    </tr>\n",
       "    <tr>\n",
       "      <th>26</th>\n",
       "      <td>0.78260</td>\n",
       "      <td>0.16872</td>\n",
       "    </tr>\n",
       "    <tr>\n",
       "      <th>27</th>\n",
       "      <td>0.81236</td>\n",
       "      <td>0.17167</td>\n",
       "    </tr>\n",
       "    <tr>\n",
       "      <th>28</th>\n",
       "      <td>0.84168</td>\n",
       "      <td>0.16948</td>\n",
       "    </tr>\n",
       "    <tr>\n",
       "      <th>29</th>\n",
       "      <td>0.87406</td>\n",
       "      <td>0.16454</td>\n",
       "    </tr>\n",
       "    <tr>\n",
       "      <th>30</th>\n",
       "      <td>0.90143</td>\n",
       "      <td>0.15485</td>\n",
       "    </tr>\n",
       "    <tr>\n",
       "      <th>31</th>\n",
       "      <td>0.92776</td>\n",
       "      <td>0.14326</td>\n",
       "    </tr>\n",
       "    <tr>\n",
       "      <th>32</th>\n",
       "      <td>0.94976</td>\n",
       "      <td>0.12989</td>\n",
       "    </tr>\n",
       "    <tr>\n",
       "      <th>33</th>\n",
       "      <td>0.96940</td>\n",
       "      <td>0.11741</td>\n",
       "    </tr>\n",
       "    <tr>\n",
       "      <th>34</th>\n",
       "      <td>0.98390</td>\n",
       "      <td>0.10340</td>\n",
       "    </tr>\n",
       "    <tr>\n",
       "      <th>35</th>\n",
       "      <td>0.99781</td>\n",
       "      <td>0.09236</td>\n",
       "    </tr>\n",
       "    <tr>\n",
       "      <th>36</th>\n",
       "      <td>1.00815</td>\n",
       "      <td>0.08205</td>\n",
       "    </tr>\n",
       "    <tr>\n",
       "      <th>37</th>\n",
       "      <td>1.01627</td>\n",
       "      <td>0.07266</td>\n",
       "    </tr>\n",
       "    <tr>\n",
       "      <th>38</th>\n",
       "      <td>1.02429</td>\n",
       "      <td>0.06665</td>\n",
       "    </tr>\n",
       "    <tr>\n",
       "      <th>39</th>\n",
       "      <td>1.02973</td>\n",
       "      <td>0.06092</td>\n",
       "    </tr>\n",
       "    <tr>\n",
       "      <th>40</th>\n",
       "      <td>1.03536</td>\n",
       "      <td>0.05650</td>\n",
       "    </tr>\n",
       "    <tr>\n",
       "      <th>41</th>\n",
       "      <td>1.04075</td>\n",
       "      <td>0.05404</td>\n",
       "    </tr>\n",
       "    <tr>\n",
       "      <th>42</th>\n",
       "      <td>1.04617</td>\n",
       "      <td>0.05371</td>\n",
       "    </tr>\n",
       "    <tr>\n",
       "      <th>43</th>\n",
       "      <td>1.05071</td>\n",
       "      <td>0.05344</td>\n",
       "    </tr>\n",
       "    <tr>\n",
       "      <th>44</th>\n",
       "      <td>1.05612</td>\n",
       "      <td>0.05450</td>\n",
       "    </tr>\n",
       "    <tr>\n",
       "      <th>45</th>\n",
       "      <td>1.06154</td>\n",
       "      <td>0.05572</td>\n",
       "    </tr>\n",
       "    <tr>\n",
       "      <th>46</th>\n",
       "      <td>1.06740</td>\n",
       "      <td>0.05981</td>\n",
       "    </tr>\n",
       "    <tr>\n",
       "      <th>47</th>\n",
       "      <td>1.07274</td>\n",
       "      <td>0.06572</td>\n",
       "    </tr>\n",
       "    <tr>\n",
       "      <th>48</th>\n",
       "      <td>1.07784</td>\n",
       "      <td>0.07199</td>\n",
       "    </tr>\n",
       "    <tr>\n",
       "      <th>49</th>\n",
       "      <td>1.08463</td>\n",
       "      <td>0.07903</td>\n",
       "    </tr>\n",
       "    <tr>\n",
       "      <th>50</th>\n",
       "      <td>1.09280</td>\n",
       "      <td>0.08888</td>\n",
       "    </tr>\n",
       "    <tr>\n",
       "      <th>51</th>\n",
       "      <td>1.10270</td>\n",
       "      <td>0.10230</td>\n",
       "    </tr>\n",
       "    <tr>\n",
       "      <th>52</th>\n",
       "      <td>1.11190</td>\n",
       "      <td>0.11767</td>\n",
       "    </tr>\n",
       "    <tr>\n",
       "      <th>53</th>\n",
       "      <td>1.12293</td>\n",
       "      <td>0.13411</td>\n",
       "    </tr>\n",
       "    <tr>\n",
       "      <th>54</th>\n",
       "      <td>1.13790</td>\n",
       "      <td>0.15473</td>\n",
       "    </tr>\n",
       "    <tr>\n",
       "      <th>55</th>\n",
       "      <td>1.15879</td>\n",
       "      <td>0.18024</td>\n",
       "    </tr>\n",
       "    <tr>\n",
       "      <th>56</th>\n",
       "      <td>1.17998</td>\n",
       "      <td>0.21535</td>\n",
       "    </tr>\n",
       "    <tr>\n",
       "      <th>57</th>\n",
       "      <td>1.19951</td>\n",
       "      <td>0.25411</td>\n",
       "    </tr>\n",
       "    <tr>\n",
       "      <th>58</th>\n",
       "      <td>1.22204</td>\n",
       "      <td>0.29026</td>\n",
       "    </tr>\n",
       "    <tr>\n",
       "      <th>59</th>\n",
       "      <td>1.25668</td>\n",
       "      <td>0.32795</td>\n",
       "    </tr>\n",
       "  </tbody>\n",
       "</table>\n",
       "</div>"
      ],
      "text/plain": [
       "    X Values  Y Values\n",
       "0    0.38470  -0.03513\n",
       "1    0.39156  -0.01700\n",
       "2    0.39684   0.00009\n",
       "3    0.40341   0.01405\n",
       "4    0.40963   0.02612\n",
       "5    0.41925   0.03503\n",
       "6    0.42764   0.04477\n",
       "7    0.43530   0.05055\n",
       "8    0.44525   0.05974\n",
       "9    0.45744   0.06608\n",
       "10   0.46670   0.07337\n",
       "11   0.48040   0.08116\n",
       "12   0.49228   0.08955\n",
       "13   0.50688   0.09477\n",
       "14   0.52266   0.10115\n",
       "15   0.53725   0.10537\n",
       "16   0.55511   0.11623\n",
       "17   0.57423   0.12077\n",
       "18   0.59175   0.12648\n",
       "19   0.61094   0.13371\n",
       "20   0.63160   0.13902\n",
       "21   0.65332   0.14582\n",
       "22   0.67640   0.15104\n",
       "23   0.69883   0.15489\n",
       "24   0.72724   0.16106\n",
       "25   0.75353   0.16641\n",
       "26   0.78260   0.16872\n",
       "27   0.81236   0.17167\n",
       "28   0.84168   0.16948\n",
       "29   0.87406   0.16454\n",
       "30   0.90143   0.15485\n",
       "31   0.92776   0.14326\n",
       "32   0.94976   0.12989\n",
       "33   0.96940   0.11741\n",
       "34   0.98390   0.10340\n",
       "35   0.99781   0.09236\n",
       "36   1.00815   0.08205\n",
       "37   1.01627   0.07266\n",
       "38   1.02429   0.06665\n",
       "39   1.02973   0.06092\n",
       "40   1.03536   0.05650\n",
       "41   1.04075   0.05404\n",
       "42   1.04617   0.05371\n",
       "43   1.05071   0.05344\n",
       "44   1.05612   0.05450\n",
       "45   1.06154   0.05572\n",
       "46   1.06740   0.05981\n",
       "47   1.07274   0.06572\n",
       "48   1.07784   0.07199\n",
       "49   1.08463   0.07903\n",
       "50   1.09280   0.08888\n",
       "51   1.10270   0.10230\n",
       "52   1.11190   0.11767\n",
       "53   1.12293   0.13411\n",
       "54   1.13790   0.15473\n",
       "55   1.15879   0.18024\n",
       "56   1.17998   0.21535\n",
       "57   1.19951   0.25411\n",
       "58   1.22204   0.29026\n",
       "59   1.25668   0.32795"
      ]
     },
     "execution_count": 27,
     "metadata": {},
     "output_type": "execute_result"
    }
   ],
   "source": [
    "df_EIS"
   ]
  },
  {
   "cell_type": "code",
   "execution_count": 28,
   "id": "2b55ca01",
   "metadata": {},
   "outputs": [
    {
     "data": {
      "application/vnd.plotly.v1+json": {
       "config": {
        "plotlyServerURL": "https://plot.ly"
       },
       "data": [
        {
         "hovertemplate": "X Values=%{x}<br>Y Values=%{y}<extra></extra>",
         "legendgroup": "",
         "marker": {
          "color": "#636efa",
          "symbol": "circle"
         },
         "mode": "markers",
         "name": "",
         "orientation": "v",
         "showlegend": false,
         "type": "scatter",
         "x": [
          0.3847,
          0.39156,
          0.39684,
          0.40341,
          0.40963,
          0.41925,
          0.42764,
          0.4353,
          0.44525,
          0.45744,
          0.4667,
          0.4804,
          0.49228,
          0.50688,
          0.52266,
          0.53725,
          0.55511,
          0.57423,
          0.59175,
          0.61094,
          0.6316,
          0.65332,
          0.6764,
          0.69883,
          0.72724,
          0.75353,
          0.7826,
          0.81236,
          0.84168,
          0.87406,
          0.90143,
          0.92776,
          0.94976,
          0.9694,
          0.9839,
          0.99781,
          1.00815,
          1.01627,
          1.02429,
          1.02973,
          1.03536,
          1.04075,
          1.04617,
          1.05071,
          1.05612,
          1.06154,
          1.0674,
          1.07274,
          1.07784,
          1.08463,
          1.0928,
          1.1027,
          1.1119,
          1.12293,
          1.1379,
          1.15879,
          1.17998,
          1.19951,
          1.22204,
          1.25668
         ],
         "xaxis": "x",
         "y": [
          -0.03513,
          -0.017,
          9e-05,
          0.01405,
          0.02612,
          0.03503,
          0.04477,
          0.05055,
          0.05974,
          0.06608,
          0.07337,
          0.08116,
          0.08955,
          0.09477,
          0.10115,
          0.10537,
          0.11623,
          0.12077,
          0.12648,
          0.13371,
          0.13902,
          0.14582,
          0.15104,
          0.15489,
          0.16106,
          0.16641,
          0.16872,
          0.17167,
          0.16948,
          0.16454,
          0.15485,
          0.14326,
          0.12989,
          0.11741,
          0.1034,
          0.09236,
          0.08205,
          0.07266,
          0.06665,
          0.06092,
          0.0565,
          0.05404,
          0.05371,
          0.05344,
          0.0545,
          0.05572,
          0.05981,
          0.06572,
          0.07199,
          0.07903,
          0.08888,
          0.1023,
          0.11767,
          0.13411,
          0.15473,
          0.18024,
          0.21535,
          0.25411,
          0.29026,
          0.32795
         ],
         "yaxis": "y"
        }
       ],
       "layout": {
        "legend": {
         "tracegroupgap": 0
        },
        "margin": {
         "t": 60
        },
        "template": {
         "data": {
          "bar": [
           {
            "error_x": {
             "color": "#2a3f5f"
            },
            "error_y": {
             "color": "#2a3f5f"
            },
            "marker": {
             "line": {
              "color": "#E5ECF6",
              "width": 0.5
             },
             "pattern": {
              "fillmode": "overlay",
              "size": 10,
              "solidity": 0.2
             }
            },
            "type": "bar"
           }
          ],
          "barpolar": [
           {
            "marker": {
             "line": {
              "color": "#E5ECF6",
              "width": 0.5
             },
             "pattern": {
              "fillmode": "overlay",
              "size": 10,
              "solidity": 0.2
             }
            },
            "type": "barpolar"
           }
          ],
          "carpet": [
           {
            "aaxis": {
             "endlinecolor": "#2a3f5f",
             "gridcolor": "white",
             "linecolor": "white",
             "minorgridcolor": "white",
             "startlinecolor": "#2a3f5f"
            },
            "baxis": {
             "endlinecolor": "#2a3f5f",
             "gridcolor": "white",
             "linecolor": "white",
             "minorgridcolor": "white",
             "startlinecolor": "#2a3f5f"
            },
            "type": "carpet"
           }
          ],
          "choropleth": [
           {
            "colorbar": {
             "outlinewidth": 0,
             "ticks": ""
            },
            "type": "choropleth"
           }
          ],
          "contour": [
           {
            "colorbar": {
             "outlinewidth": 0,
             "ticks": ""
            },
            "colorscale": [
             [
              0,
              "#0d0887"
             ],
             [
              0.1111111111111111,
              "#46039f"
             ],
             [
              0.2222222222222222,
              "#7201a8"
             ],
             [
              0.3333333333333333,
              "#9c179e"
             ],
             [
              0.4444444444444444,
              "#bd3786"
             ],
             [
              0.5555555555555556,
              "#d8576b"
             ],
             [
              0.6666666666666666,
              "#ed7953"
             ],
             [
              0.7777777777777778,
              "#fb9f3a"
             ],
             [
              0.8888888888888888,
              "#fdca26"
             ],
             [
              1,
              "#f0f921"
             ]
            ],
            "type": "contour"
           }
          ],
          "contourcarpet": [
           {
            "colorbar": {
             "outlinewidth": 0,
             "ticks": ""
            },
            "type": "contourcarpet"
           }
          ],
          "heatmap": [
           {
            "colorbar": {
             "outlinewidth": 0,
             "ticks": ""
            },
            "colorscale": [
             [
              0,
              "#0d0887"
             ],
             [
              0.1111111111111111,
              "#46039f"
             ],
             [
              0.2222222222222222,
              "#7201a8"
             ],
             [
              0.3333333333333333,
              "#9c179e"
             ],
             [
              0.4444444444444444,
              "#bd3786"
             ],
             [
              0.5555555555555556,
              "#d8576b"
             ],
             [
              0.6666666666666666,
              "#ed7953"
             ],
             [
              0.7777777777777778,
              "#fb9f3a"
             ],
             [
              0.8888888888888888,
              "#fdca26"
             ],
             [
              1,
              "#f0f921"
             ]
            ],
            "type": "heatmap"
           }
          ],
          "heatmapgl": [
           {
            "colorbar": {
             "outlinewidth": 0,
             "ticks": ""
            },
            "colorscale": [
             [
              0,
              "#0d0887"
             ],
             [
              0.1111111111111111,
              "#46039f"
             ],
             [
              0.2222222222222222,
              "#7201a8"
             ],
             [
              0.3333333333333333,
              "#9c179e"
             ],
             [
              0.4444444444444444,
              "#bd3786"
             ],
             [
              0.5555555555555556,
              "#d8576b"
             ],
             [
              0.6666666666666666,
              "#ed7953"
             ],
             [
              0.7777777777777778,
              "#fb9f3a"
             ],
             [
              0.8888888888888888,
              "#fdca26"
             ],
             [
              1,
              "#f0f921"
             ]
            ],
            "type": "heatmapgl"
           }
          ],
          "histogram": [
           {
            "marker": {
             "pattern": {
              "fillmode": "overlay",
              "size": 10,
              "solidity": 0.2
             }
            },
            "type": "histogram"
           }
          ],
          "histogram2d": [
           {
            "colorbar": {
             "outlinewidth": 0,
             "ticks": ""
            },
            "colorscale": [
             [
              0,
              "#0d0887"
             ],
             [
              0.1111111111111111,
              "#46039f"
             ],
             [
              0.2222222222222222,
              "#7201a8"
             ],
             [
              0.3333333333333333,
              "#9c179e"
             ],
             [
              0.4444444444444444,
              "#bd3786"
             ],
             [
              0.5555555555555556,
              "#d8576b"
             ],
             [
              0.6666666666666666,
              "#ed7953"
             ],
             [
              0.7777777777777778,
              "#fb9f3a"
             ],
             [
              0.8888888888888888,
              "#fdca26"
             ],
             [
              1,
              "#f0f921"
             ]
            ],
            "type": "histogram2d"
           }
          ],
          "histogram2dcontour": [
           {
            "colorbar": {
             "outlinewidth": 0,
             "ticks": ""
            },
            "colorscale": [
             [
              0,
              "#0d0887"
             ],
             [
              0.1111111111111111,
              "#46039f"
             ],
             [
              0.2222222222222222,
              "#7201a8"
             ],
             [
              0.3333333333333333,
              "#9c179e"
             ],
             [
              0.4444444444444444,
              "#bd3786"
             ],
             [
              0.5555555555555556,
              "#d8576b"
             ],
             [
              0.6666666666666666,
              "#ed7953"
             ],
             [
              0.7777777777777778,
              "#fb9f3a"
             ],
             [
              0.8888888888888888,
              "#fdca26"
             ],
             [
              1,
              "#f0f921"
             ]
            ],
            "type": "histogram2dcontour"
           }
          ],
          "mesh3d": [
           {
            "colorbar": {
             "outlinewidth": 0,
             "ticks": ""
            },
            "type": "mesh3d"
           }
          ],
          "parcoords": [
           {
            "line": {
             "colorbar": {
              "outlinewidth": 0,
              "ticks": ""
             }
            },
            "type": "parcoords"
           }
          ],
          "pie": [
           {
            "automargin": true,
            "type": "pie"
           }
          ],
          "scatter": [
           {
            "marker": {
             "colorbar": {
              "outlinewidth": 0,
              "ticks": ""
             }
            },
            "type": "scatter"
           }
          ],
          "scatter3d": [
           {
            "line": {
             "colorbar": {
              "outlinewidth": 0,
              "ticks": ""
             }
            },
            "marker": {
             "colorbar": {
              "outlinewidth": 0,
              "ticks": ""
             }
            },
            "type": "scatter3d"
           }
          ],
          "scattercarpet": [
           {
            "marker": {
             "colorbar": {
              "outlinewidth": 0,
              "ticks": ""
             }
            },
            "type": "scattercarpet"
           }
          ],
          "scattergeo": [
           {
            "marker": {
             "colorbar": {
              "outlinewidth": 0,
              "ticks": ""
             }
            },
            "type": "scattergeo"
           }
          ],
          "scattergl": [
           {
            "marker": {
             "colorbar": {
              "outlinewidth": 0,
              "ticks": ""
             }
            },
            "type": "scattergl"
           }
          ],
          "scattermapbox": [
           {
            "marker": {
             "colorbar": {
              "outlinewidth": 0,
              "ticks": ""
             }
            },
            "type": "scattermapbox"
           }
          ],
          "scatterpolar": [
           {
            "marker": {
             "colorbar": {
              "outlinewidth": 0,
              "ticks": ""
             }
            },
            "type": "scatterpolar"
           }
          ],
          "scatterpolargl": [
           {
            "marker": {
             "colorbar": {
              "outlinewidth": 0,
              "ticks": ""
             }
            },
            "type": "scatterpolargl"
           }
          ],
          "scatterternary": [
           {
            "marker": {
             "colorbar": {
              "outlinewidth": 0,
              "ticks": ""
             }
            },
            "type": "scatterternary"
           }
          ],
          "surface": [
           {
            "colorbar": {
             "outlinewidth": 0,
             "ticks": ""
            },
            "colorscale": [
             [
              0,
              "#0d0887"
             ],
             [
              0.1111111111111111,
              "#46039f"
             ],
             [
              0.2222222222222222,
              "#7201a8"
             ],
             [
              0.3333333333333333,
              "#9c179e"
             ],
             [
              0.4444444444444444,
              "#bd3786"
             ],
             [
              0.5555555555555556,
              "#d8576b"
             ],
             [
              0.6666666666666666,
              "#ed7953"
             ],
             [
              0.7777777777777778,
              "#fb9f3a"
             ],
             [
              0.8888888888888888,
              "#fdca26"
             ],
             [
              1,
              "#f0f921"
             ]
            ],
            "type": "surface"
           }
          ],
          "table": [
           {
            "cells": {
             "fill": {
              "color": "#EBF0F8"
             },
             "line": {
              "color": "white"
             }
            },
            "header": {
             "fill": {
              "color": "#C8D4E3"
             },
             "line": {
              "color": "white"
             }
            },
            "type": "table"
           }
          ]
         },
         "layout": {
          "annotationdefaults": {
           "arrowcolor": "#2a3f5f",
           "arrowhead": 0,
           "arrowwidth": 1
          },
          "autotypenumbers": "strict",
          "coloraxis": {
           "colorbar": {
            "outlinewidth": 0,
            "ticks": ""
           }
          },
          "colorscale": {
           "diverging": [
            [
             0,
             "#8e0152"
            ],
            [
             0.1,
             "#c51b7d"
            ],
            [
             0.2,
             "#de77ae"
            ],
            [
             0.3,
             "#f1b6da"
            ],
            [
             0.4,
             "#fde0ef"
            ],
            [
             0.5,
             "#f7f7f7"
            ],
            [
             0.6,
             "#e6f5d0"
            ],
            [
             0.7,
             "#b8e186"
            ],
            [
             0.8,
             "#7fbc41"
            ],
            [
             0.9,
             "#4d9221"
            ],
            [
             1,
             "#276419"
            ]
           ],
           "sequential": [
            [
             0,
             "#0d0887"
            ],
            [
             0.1111111111111111,
             "#46039f"
            ],
            [
             0.2222222222222222,
             "#7201a8"
            ],
            [
             0.3333333333333333,
             "#9c179e"
            ],
            [
             0.4444444444444444,
             "#bd3786"
            ],
            [
             0.5555555555555556,
             "#d8576b"
            ],
            [
             0.6666666666666666,
             "#ed7953"
            ],
            [
             0.7777777777777778,
             "#fb9f3a"
            ],
            [
             0.8888888888888888,
             "#fdca26"
            ],
            [
             1,
             "#f0f921"
            ]
           ],
           "sequentialminus": [
            [
             0,
             "#0d0887"
            ],
            [
             0.1111111111111111,
             "#46039f"
            ],
            [
             0.2222222222222222,
             "#7201a8"
            ],
            [
             0.3333333333333333,
             "#9c179e"
            ],
            [
             0.4444444444444444,
             "#bd3786"
            ],
            [
             0.5555555555555556,
             "#d8576b"
            ],
            [
             0.6666666666666666,
             "#ed7953"
            ],
            [
             0.7777777777777778,
             "#fb9f3a"
            ],
            [
             0.8888888888888888,
             "#fdca26"
            ],
            [
             1,
             "#f0f921"
            ]
           ]
          },
          "colorway": [
           "#636efa",
           "#EF553B",
           "#00cc96",
           "#ab63fa",
           "#FFA15A",
           "#19d3f3",
           "#FF6692",
           "#B6E880",
           "#FF97FF",
           "#FECB52"
          ],
          "font": {
           "color": "#2a3f5f"
          },
          "geo": {
           "bgcolor": "white",
           "lakecolor": "white",
           "landcolor": "#E5ECF6",
           "showlakes": true,
           "showland": true,
           "subunitcolor": "white"
          },
          "hoverlabel": {
           "align": "left"
          },
          "hovermode": "closest",
          "mapbox": {
           "style": "light"
          },
          "paper_bgcolor": "white",
          "plot_bgcolor": "#E5ECF6",
          "polar": {
           "angularaxis": {
            "gridcolor": "white",
            "linecolor": "white",
            "ticks": ""
           },
           "bgcolor": "#E5ECF6",
           "radialaxis": {
            "gridcolor": "white",
            "linecolor": "white",
            "ticks": ""
           }
          },
          "scene": {
           "xaxis": {
            "backgroundcolor": "#E5ECF6",
            "gridcolor": "white",
            "gridwidth": 2,
            "linecolor": "white",
            "showbackground": true,
            "ticks": "",
            "zerolinecolor": "white"
           },
           "yaxis": {
            "backgroundcolor": "#E5ECF6",
            "gridcolor": "white",
            "gridwidth": 2,
            "linecolor": "white",
            "showbackground": true,
            "ticks": "",
            "zerolinecolor": "white"
           },
           "zaxis": {
            "backgroundcolor": "#E5ECF6",
            "gridcolor": "white",
            "gridwidth": 2,
            "linecolor": "white",
            "showbackground": true,
            "ticks": "",
            "zerolinecolor": "white"
           }
          },
          "shapedefaults": {
           "line": {
            "color": "#2a3f5f"
           }
          },
          "ternary": {
           "aaxis": {
            "gridcolor": "white",
            "linecolor": "white",
            "ticks": ""
           },
           "baxis": {
            "gridcolor": "white",
            "linecolor": "white",
            "ticks": ""
           },
           "bgcolor": "#E5ECF6",
           "caxis": {
            "gridcolor": "white",
            "linecolor": "white",
            "ticks": ""
           }
          },
          "title": {
           "x": 0.05
          },
          "xaxis": {
           "automargin": true,
           "gridcolor": "white",
           "linecolor": "white",
           "ticks": "",
           "title": {
            "standoff": 15
           },
           "zerolinecolor": "white",
           "zerolinewidth": 2
          },
          "yaxis": {
           "automargin": true,
           "gridcolor": "white",
           "linecolor": "white",
           "ticks": "",
           "title": {
            "standoff": 15
           },
           "zerolinecolor": "white",
           "zerolinewidth": 2
          }
         }
        },
        "xaxis": {
         "anchor": "y",
         "domain": [
          0,
          1
         ],
         "title": {
          "text": "X Values"
         }
        },
        "yaxis": {
         "anchor": "x",
         "domain": [
          0,
          1
         ],
         "title": {
          "text": "Y Values"
         }
        }
       }
      },
      "text/html": [
       "<div>                            <div id=\"68685be8-53e2-47ca-8403-dcf0bc5727ec\" class=\"plotly-graph-div\" style=\"height:525px; width:100%;\"></div>            <script type=\"text/javascript\">                require([\"plotly\"], function(Plotly) {                    window.PLOTLYENV=window.PLOTLYENV || {};                                    if (document.getElementById(\"68685be8-53e2-47ca-8403-dcf0bc5727ec\")) {                    Plotly.newPlot(                        \"68685be8-53e2-47ca-8403-dcf0bc5727ec\",                        [{\"hovertemplate\":\"X Values=%{x}<br>Y Values=%{y}<extra></extra>\",\"legendgroup\":\"\",\"marker\":{\"color\":\"#636efa\",\"symbol\":\"circle\"},\"mode\":\"markers\",\"name\":\"\",\"orientation\":\"v\",\"showlegend\":false,\"x\":[0.3847,0.39156,0.39684,0.40341,0.40963,0.41925,0.42764,0.4353,0.44525,0.45744,0.4667,0.4804,0.49228,0.50688,0.52266,0.53725,0.55511,0.57423,0.59175,0.61094,0.6316,0.65332,0.6764,0.69883,0.72724,0.75353,0.7826,0.81236,0.84168,0.87406,0.90143,0.92776,0.94976,0.9694,0.9839,0.99781,1.00815,1.01627,1.02429,1.02973,1.03536,1.04075,1.04617,1.05071,1.05612,1.06154,1.0674,1.07274,1.07784,1.08463,1.0928,1.1027,1.1119,1.12293,1.1379,1.15879,1.17998,1.19951,1.22204,1.25668],\"xaxis\":\"x\",\"y\":[-0.03513,-0.017,9e-05,0.01405,0.02612,0.03503,0.04477,0.05055,0.05974,0.06608,0.07337,0.08116,0.08955,0.09477,0.10115,0.10537,0.11623,0.12077,0.12648,0.13371,0.13902,0.14582,0.15104,0.15489,0.16106,0.16641,0.16872,0.17167,0.16948,0.16454,0.15485,0.14326,0.12989,0.11741,0.1034,0.09236,0.08205,0.07266,0.06665,0.06092,0.0565,0.05404,0.05371,0.05344,0.0545,0.05572,0.05981,0.06572,0.07199,0.07903,0.08888,0.1023,0.11767,0.13411,0.15473,0.18024,0.21535,0.25411,0.29026,0.32795],\"yaxis\":\"y\",\"type\":\"scatter\"}],                        {\"template\":{\"data\":{\"bar\":[{\"error_x\":{\"color\":\"#2a3f5f\"},\"error_y\":{\"color\":\"#2a3f5f\"},\"marker\":{\"line\":{\"color\":\"#E5ECF6\",\"width\":0.5},\"pattern\":{\"fillmode\":\"overlay\",\"size\":10,\"solidity\":0.2}},\"type\":\"bar\"}],\"barpolar\":[{\"marker\":{\"line\":{\"color\":\"#E5ECF6\",\"width\":0.5},\"pattern\":{\"fillmode\":\"overlay\",\"size\":10,\"solidity\":0.2}},\"type\":\"barpolar\"}],\"carpet\":[{\"aaxis\":{\"endlinecolor\":\"#2a3f5f\",\"gridcolor\":\"white\",\"linecolor\":\"white\",\"minorgridcolor\":\"white\",\"startlinecolor\":\"#2a3f5f\"},\"baxis\":{\"endlinecolor\":\"#2a3f5f\",\"gridcolor\":\"white\",\"linecolor\":\"white\",\"minorgridcolor\":\"white\",\"startlinecolor\":\"#2a3f5f\"},\"type\":\"carpet\"}],\"choropleth\":[{\"colorbar\":{\"outlinewidth\":0,\"ticks\":\"\"},\"type\":\"choropleth\"}],\"contour\":[{\"colorbar\":{\"outlinewidth\":0,\"ticks\":\"\"},\"colorscale\":[[0.0,\"#0d0887\"],[0.1111111111111111,\"#46039f\"],[0.2222222222222222,\"#7201a8\"],[0.3333333333333333,\"#9c179e\"],[0.4444444444444444,\"#bd3786\"],[0.5555555555555556,\"#d8576b\"],[0.6666666666666666,\"#ed7953\"],[0.7777777777777778,\"#fb9f3a\"],[0.8888888888888888,\"#fdca26\"],[1.0,\"#f0f921\"]],\"type\":\"contour\"}],\"contourcarpet\":[{\"colorbar\":{\"outlinewidth\":0,\"ticks\":\"\"},\"type\":\"contourcarpet\"}],\"heatmap\":[{\"colorbar\":{\"outlinewidth\":0,\"ticks\":\"\"},\"colorscale\":[[0.0,\"#0d0887\"],[0.1111111111111111,\"#46039f\"],[0.2222222222222222,\"#7201a8\"],[0.3333333333333333,\"#9c179e\"],[0.4444444444444444,\"#bd3786\"],[0.5555555555555556,\"#d8576b\"],[0.6666666666666666,\"#ed7953\"],[0.7777777777777778,\"#fb9f3a\"],[0.8888888888888888,\"#fdca26\"],[1.0,\"#f0f921\"]],\"type\":\"heatmap\"}],\"heatmapgl\":[{\"colorbar\":{\"outlinewidth\":0,\"ticks\":\"\"},\"colorscale\":[[0.0,\"#0d0887\"],[0.1111111111111111,\"#46039f\"],[0.2222222222222222,\"#7201a8\"],[0.3333333333333333,\"#9c179e\"],[0.4444444444444444,\"#bd3786\"],[0.5555555555555556,\"#d8576b\"],[0.6666666666666666,\"#ed7953\"],[0.7777777777777778,\"#fb9f3a\"],[0.8888888888888888,\"#fdca26\"],[1.0,\"#f0f921\"]],\"type\":\"heatmapgl\"}],\"histogram\":[{\"marker\":{\"pattern\":{\"fillmode\":\"overlay\",\"size\":10,\"solidity\":0.2}},\"type\":\"histogram\"}],\"histogram2d\":[{\"colorbar\":{\"outlinewidth\":0,\"ticks\":\"\"},\"colorscale\":[[0.0,\"#0d0887\"],[0.1111111111111111,\"#46039f\"],[0.2222222222222222,\"#7201a8\"],[0.3333333333333333,\"#9c179e\"],[0.4444444444444444,\"#bd3786\"],[0.5555555555555556,\"#d8576b\"],[0.6666666666666666,\"#ed7953\"],[0.7777777777777778,\"#fb9f3a\"],[0.8888888888888888,\"#fdca26\"],[1.0,\"#f0f921\"]],\"type\":\"histogram2d\"}],\"histogram2dcontour\":[{\"colorbar\":{\"outlinewidth\":0,\"ticks\":\"\"},\"colorscale\":[[0.0,\"#0d0887\"],[0.1111111111111111,\"#46039f\"],[0.2222222222222222,\"#7201a8\"],[0.3333333333333333,\"#9c179e\"],[0.4444444444444444,\"#bd3786\"],[0.5555555555555556,\"#d8576b\"],[0.6666666666666666,\"#ed7953\"],[0.7777777777777778,\"#fb9f3a\"],[0.8888888888888888,\"#fdca26\"],[1.0,\"#f0f921\"]],\"type\":\"histogram2dcontour\"}],\"mesh3d\":[{\"colorbar\":{\"outlinewidth\":0,\"ticks\":\"\"},\"type\":\"mesh3d\"}],\"parcoords\":[{\"line\":{\"colorbar\":{\"outlinewidth\":0,\"ticks\":\"\"}},\"type\":\"parcoords\"}],\"pie\":[{\"automargin\":true,\"type\":\"pie\"}],\"scatter\":[{\"marker\":{\"colorbar\":{\"outlinewidth\":0,\"ticks\":\"\"}},\"type\":\"scatter\"}],\"scatter3d\":[{\"line\":{\"colorbar\":{\"outlinewidth\":0,\"ticks\":\"\"}},\"marker\":{\"colorbar\":{\"outlinewidth\":0,\"ticks\":\"\"}},\"type\":\"scatter3d\"}],\"scattercarpet\":[{\"marker\":{\"colorbar\":{\"outlinewidth\":0,\"ticks\":\"\"}},\"type\":\"scattercarpet\"}],\"scattergeo\":[{\"marker\":{\"colorbar\":{\"outlinewidth\":0,\"ticks\":\"\"}},\"type\":\"scattergeo\"}],\"scattergl\":[{\"marker\":{\"colorbar\":{\"outlinewidth\":0,\"ticks\":\"\"}},\"type\":\"scattergl\"}],\"scattermapbox\":[{\"marker\":{\"colorbar\":{\"outlinewidth\":0,\"ticks\":\"\"}},\"type\":\"scattermapbox\"}],\"scatterpolar\":[{\"marker\":{\"colorbar\":{\"outlinewidth\":0,\"ticks\":\"\"}},\"type\":\"scatterpolar\"}],\"scatterpolargl\":[{\"marker\":{\"colorbar\":{\"outlinewidth\":0,\"ticks\":\"\"}},\"type\":\"scatterpolargl\"}],\"scatterternary\":[{\"marker\":{\"colorbar\":{\"outlinewidth\":0,\"ticks\":\"\"}},\"type\":\"scatterternary\"}],\"surface\":[{\"colorbar\":{\"outlinewidth\":0,\"ticks\":\"\"},\"colorscale\":[[0.0,\"#0d0887\"],[0.1111111111111111,\"#46039f\"],[0.2222222222222222,\"#7201a8\"],[0.3333333333333333,\"#9c179e\"],[0.4444444444444444,\"#bd3786\"],[0.5555555555555556,\"#d8576b\"],[0.6666666666666666,\"#ed7953\"],[0.7777777777777778,\"#fb9f3a\"],[0.8888888888888888,\"#fdca26\"],[1.0,\"#f0f921\"]],\"type\":\"surface\"}],\"table\":[{\"cells\":{\"fill\":{\"color\":\"#EBF0F8\"},\"line\":{\"color\":\"white\"}},\"header\":{\"fill\":{\"color\":\"#C8D4E3\"},\"line\":{\"color\":\"white\"}},\"type\":\"table\"}]},\"layout\":{\"annotationdefaults\":{\"arrowcolor\":\"#2a3f5f\",\"arrowhead\":0,\"arrowwidth\":1},\"autotypenumbers\":\"strict\",\"coloraxis\":{\"colorbar\":{\"outlinewidth\":0,\"ticks\":\"\"}},\"colorscale\":{\"diverging\":[[0,\"#8e0152\"],[0.1,\"#c51b7d\"],[0.2,\"#de77ae\"],[0.3,\"#f1b6da\"],[0.4,\"#fde0ef\"],[0.5,\"#f7f7f7\"],[0.6,\"#e6f5d0\"],[0.7,\"#b8e186\"],[0.8,\"#7fbc41\"],[0.9,\"#4d9221\"],[1,\"#276419\"]],\"sequential\":[[0.0,\"#0d0887\"],[0.1111111111111111,\"#46039f\"],[0.2222222222222222,\"#7201a8\"],[0.3333333333333333,\"#9c179e\"],[0.4444444444444444,\"#bd3786\"],[0.5555555555555556,\"#d8576b\"],[0.6666666666666666,\"#ed7953\"],[0.7777777777777778,\"#fb9f3a\"],[0.8888888888888888,\"#fdca26\"],[1.0,\"#f0f921\"]],\"sequentialminus\":[[0.0,\"#0d0887\"],[0.1111111111111111,\"#46039f\"],[0.2222222222222222,\"#7201a8\"],[0.3333333333333333,\"#9c179e\"],[0.4444444444444444,\"#bd3786\"],[0.5555555555555556,\"#d8576b\"],[0.6666666666666666,\"#ed7953\"],[0.7777777777777778,\"#fb9f3a\"],[0.8888888888888888,\"#fdca26\"],[1.0,\"#f0f921\"]]},\"colorway\":[\"#636efa\",\"#EF553B\",\"#00cc96\",\"#ab63fa\",\"#FFA15A\",\"#19d3f3\",\"#FF6692\",\"#B6E880\",\"#FF97FF\",\"#FECB52\"],\"font\":{\"color\":\"#2a3f5f\"},\"geo\":{\"bgcolor\":\"white\",\"lakecolor\":\"white\",\"landcolor\":\"#E5ECF6\",\"showlakes\":true,\"showland\":true,\"subunitcolor\":\"white\"},\"hoverlabel\":{\"align\":\"left\"},\"hovermode\":\"closest\",\"mapbox\":{\"style\":\"light\"},\"paper_bgcolor\":\"white\",\"plot_bgcolor\":\"#E5ECF6\",\"polar\":{\"angularaxis\":{\"gridcolor\":\"white\",\"linecolor\":\"white\",\"ticks\":\"\"},\"bgcolor\":\"#E5ECF6\",\"radialaxis\":{\"gridcolor\":\"white\",\"linecolor\":\"white\",\"ticks\":\"\"}},\"scene\":{\"xaxis\":{\"backgroundcolor\":\"#E5ECF6\",\"gridcolor\":\"white\",\"gridwidth\":2,\"linecolor\":\"white\",\"showbackground\":true,\"ticks\":\"\",\"zerolinecolor\":\"white\"},\"yaxis\":{\"backgroundcolor\":\"#E5ECF6\",\"gridcolor\":\"white\",\"gridwidth\":2,\"linecolor\":\"white\",\"showbackground\":true,\"ticks\":\"\",\"zerolinecolor\":\"white\"},\"zaxis\":{\"backgroundcolor\":\"#E5ECF6\",\"gridcolor\":\"white\",\"gridwidth\":2,\"linecolor\":\"white\",\"showbackground\":true,\"ticks\":\"\",\"zerolinecolor\":\"white\"}},\"shapedefaults\":{\"line\":{\"color\":\"#2a3f5f\"}},\"ternary\":{\"aaxis\":{\"gridcolor\":\"white\",\"linecolor\":\"white\",\"ticks\":\"\"},\"baxis\":{\"gridcolor\":\"white\",\"linecolor\":\"white\",\"ticks\":\"\"},\"bgcolor\":\"#E5ECF6\",\"caxis\":{\"gridcolor\":\"white\",\"linecolor\":\"white\",\"ticks\":\"\"}},\"title\":{\"x\":0.05},\"xaxis\":{\"automargin\":true,\"gridcolor\":\"white\",\"linecolor\":\"white\",\"ticks\":\"\",\"title\":{\"standoff\":15},\"zerolinecolor\":\"white\",\"zerolinewidth\":2},\"yaxis\":{\"automargin\":true,\"gridcolor\":\"white\",\"linecolor\":\"white\",\"ticks\":\"\",\"title\":{\"standoff\":15},\"zerolinecolor\":\"white\",\"zerolinewidth\":2}}},\"xaxis\":{\"anchor\":\"y\",\"domain\":[0.0,1.0],\"title\":{\"text\":\"X Values\"}},\"yaxis\":{\"anchor\":\"x\",\"domain\":[0.0,1.0],\"title\":{\"text\":\"Y Values\"}},\"legend\":{\"tracegroupgap\":0},\"margin\":{\"t\":60}},                        {\"responsive\": true}                    ).then(function(){\n",
       "                            \n",
       "var gd = document.getElementById('68685be8-53e2-47ca-8403-dcf0bc5727ec');\n",
       "var x = new MutationObserver(function (mutations, observer) {{\n",
       "        var display = window.getComputedStyle(gd).display;\n",
       "        if (!display || display === 'none') {{\n",
       "            console.log([gd, 'removed!']);\n",
       "            Plotly.purge(gd);\n",
       "            observer.disconnect();\n",
       "        }}\n",
       "}});\n",
       "\n",
       "// Listen for the removal of the full notebook cells\n",
       "var notebookContainer = gd.closest('#notebook-container');\n",
       "if (notebookContainer) {{\n",
       "    x.observe(notebookContainer, {childList: true});\n",
       "}}\n",
       "\n",
       "// Listen for the clearing of the current output cell\n",
       "var outputEl = gd.closest('.output');\n",
       "if (outputEl) {{\n",
       "    x.observe(outputEl, {childList: true});\n",
       "}}\n",
       "\n",
       "                        })                };                });            </script>        </div>"
      ]
     },
     "metadata": {},
     "output_type": "display_data"
    }
   ],
   "source": [
    "px.scatter(df_EIS, x = 'X Values', y = 'Y Values')  ##Produces a plot of the EIS"
   ]
  },
  {
   "cell_type": "code",
   "execution_count": null,
   "id": "143069f8",
   "metadata": {},
   "outputs": [],
   "source": []
  }
 ],
 "metadata": {
  "kernelspec": {
   "display_name": "Python 3 (ipykernel)",
   "language": "python",
   "name": "python3"
  },
  "language_info": {
   "codemirror_mode": {
    "name": "ipython",
    "version": 3
   },
   "file_extension": ".py",
   "mimetype": "text/x-python",
   "name": "python",
   "nbconvert_exporter": "python",
   "pygments_lexer": "ipython3",
   "version": "3.9.12"
  }
 },
 "nbformat": 4,
 "nbformat_minor": 5
}
